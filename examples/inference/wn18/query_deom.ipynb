{
 "metadata": {
  "language_info": {
   "codemirror_mode": {
    "name": "ipython",
    "version": 3
   },
   "file_extension": ".py",
   "mimetype": "text/x-python",
   "name": "python",
   "nbconvert_exporter": "python",
   "pygments_lexer": "ipython3",
   "version": "3.8.10"
  },
  "orig_nbformat": 2,
  "kernelspec": {
   "name": "python3",
   "display_name": "Python 3.8.10 64-bit"
  },
  "interpreter": {
   "hash": "916dbcbb3f70747c44a77c7bcd40155683ae19c65e1c03b4aa3499c5328201f1"
  }
 },
 "nbformat": 4,
 "nbformat_minor": 2,
 "cells": [
  {
   "cell_type": "markdown",
   "source": [
    "# Query Marius Output for WN18 #\n",
    "This notebook shows the steps of doing inferencing with Marius output for dataset *WN18*. The example inference we used here has a node name of *__wisconsin_NN_2* and a relation type of *_instance_hypernym*."
   ],
   "metadata": {}
  },
  {
   "cell_type": "markdown",
   "source": [
    "### Import function ###"
   ],
   "metadata": {}
  },
  {
   "cell_type": "code",
   "execution_count": 1,
   "source": [
    "import marius_infer as mi"
   ],
   "outputs": [],
   "metadata": {}
  },
  {
   "cell_type": "markdown",
   "source": [
    "### Get embedding of nodes and relations ###"
   ],
   "metadata": {}
  },
  {
   "cell_type": "code",
   "execution_count": 2,
   "source": [
    "node_embeddings, node_emb_dict = mi.tensor_from_file(\"node\")\n",
    "relation_embeddings, rel_emb_dict = mi.tensor_from_file(\"rel\")"
   ],
   "outputs": [],
   "metadata": {}
  },
  {
   "cell_type": "markdown",
   "source": [
    "### Obtain the embedding vectors for given node and relation in our inference example ###"
   ],
   "metadata": {}
  },
  {
   "cell_type": "code",
   "execution_count": 3,
   "source": [
    "src_node = \"__wisconsin_NN_2\"\n",
    "relation = \"_instance_hypernym\"\n",
    "\n",
    "src_emb = mi.lookup_embedding(\"node\", src_node, node_emb_dict)\n",
    "rel_emb = mi.lookup_embedding(\"rel\", relation, rel_emb_dict)"
   ],
   "outputs": [],
   "metadata": {}
  },
  {
   "cell_type": "markdown",
   "source": [
    "### Get top 10 nodes and similarity scores that are inferenced based on given node and relation ###"
   ],
   "metadata": {}
  },
  {
   "cell_type": "code",
   "execution_count": 5,
   "source": [
    "scores, topk = mi.infer_topk_nodes(3, src_emb, rel_emb, node_embeddings)\n",
    "topk"
   ],
   "outputs": [
    {
     "output_type": "execute_result",
     "data": {
      "text/plain": [
       "['__brazil_nut_NN_1', '__webworm_NN_1', '__hunt_club_NN_1']"
      ]
     },
     "metadata": {},
     "execution_count": 5
    }
   ],
   "metadata": {}
  },
  {
   "cell_type": "code",
   "execution_count": 6,
   "source": [
    "scores"
   ],
   "outputs": [
    {
     "output_type": "execute_result",
     "data": {
      "text/plain": [
       "tensor([11.8393, 10.5776,  8.6958])"
      ]
     },
     "metadata": {},
     "execution_count": 6
    }
   ],
   "metadata": {}
  },
  {
   "cell_type": "code",
   "execution_count": 10,
   "source": [
    "#__scandinavia_NN_2, _member_meronym, __kingdom_of_denmark_NN_1\n",
    "src_node = \"__scandinavia_NN_2\"  \n",
    "relation = \"_member_meronym\"\n",
    "\n",
    "src_emb = mi.lookup_embedding(\"node\", src_node, node_emb_dict)\n",
    "rel_emb = mi.lookup_embedding(\"rel\", relation, rel_emb_dict)\n",
    "\n",
    "scores, topk = mi.infer_topk_nodes(3, src_emb, rel_emb, node_embeddings)\n",
    "topk"
   ],
   "outputs": [
    {
     "output_type": "execute_result",
     "data": {
      "text/plain": [
       "['__rock_brake_NN_1', '__startle_NN_1', '__instance_VB_1']"
      ]
     },
     "metadata": {},
     "execution_count": 10
    }
   ],
   "metadata": {}
  },
  {
   "cell_type": "code",
   "execution_count": 11,
   "source": [
    "#__kobenhavn_NN_1, _instance_hypernym, __national_capital_NN_1\n",
    "src_node = \"__kobenhavn_NN_1\"  \n",
    "relation = \"_instance_hypernym\"\n",
    "\n",
    "src_emb = mi.lookup_embedding(\"node\", src_node, node_emb_dict)\n",
    "rel_emb = mi.lookup_embedding(\"rel\", relation, rel_emb_dict)\n",
    "\n",
    "scores, topk = mi.infer_topk_nodes(3, src_emb, rel_emb, node_embeddings)\n",
    "topk"
   ],
   "outputs": [
    {
     "output_type": "error",
     "ename": "AttributeError",
     "evalue": "'Tensor' object has no attribute 'get'",
     "traceback": [
      "\u001b[0;31m---------------------------------------------------------------------------\u001b[0m",
      "\u001b[0;31mAttributeError\u001b[0m                            Traceback (most recent call last)",
      "\u001b[0;32m/tmp/ipykernel_21684/4212281551.py\u001b[0m in \u001b[0;36m<module>\u001b[0;34m\u001b[0m\n\u001b[1;32m      3\u001b[0m \u001b[0mrelation\u001b[0m \u001b[0;34m=\u001b[0m \u001b[0;34m\"_instance_hypernym\"\u001b[0m\u001b[0;34m\u001b[0m\u001b[0;34m\u001b[0m\u001b[0m\n\u001b[1;32m      4\u001b[0m \u001b[0;34m\u001b[0m\u001b[0m\n\u001b[0;32m----> 5\u001b[0;31m \u001b[0msrc_emb\u001b[0m \u001b[0;34m=\u001b[0m \u001b[0mmi\u001b[0m\u001b[0;34m.\u001b[0m\u001b[0mlookup_embedding\u001b[0m\u001b[0;34m(\u001b[0m\u001b[0;34m\"node\"\u001b[0m\u001b[0;34m,\u001b[0m \u001b[0msrc_node\u001b[0m\u001b[0;34m,\u001b[0m \u001b[0mnode_embeddings\u001b[0m\u001b[0;34m)\u001b[0m\u001b[0;34m\u001b[0m\u001b[0;34m\u001b[0m\u001b[0m\n\u001b[0m\u001b[1;32m      6\u001b[0m \u001b[0mrel_emb\u001b[0m \u001b[0;34m=\u001b[0m \u001b[0mmi\u001b[0m\u001b[0;34m.\u001b[0m\u001b[0mlookup_embedding\u001b[0m\u001b[0;34m(\u001b[0m\u001b[0;34m\"rel\"\u001b[0m\u001b[0;34m,\u001b[0m \u001b[0mrelation\u001b[0m\u001b[0;34m,\u001b[0m \u001b[0mrelation_embeddings\u001b[0m\u001b[0;34m)\u001b[0m\u001b[0;34m\u001b[0m\u001b[0;34m\u001b[0m\u001b[0m\n\u001b[1;32m      7\u001b[0m \u001b[0;34m\u001b[0m\u001b[0m\n",
      "\u001b[0;32m/mnt/d/Research/A_marius_2/marius/marius_infer.py\u001b[0m in \u001b[0;36mlookup_embedding\u001b[0;34m(choice, id, emb_dict)\u001b[0m\n\u001b[1;32m     59\u001b[0m         \u001b[0mid\u001b[0m \u001b[0;34m=\u001b[0m \u001b[0mdef_dict\u001b[0m\u001b[0;34m.\u001b[0m\u001b[0mget\u001b[0m\u001b[0;34m(\u001b[0m\u001b[0mid\u001b[0m\u001b[0;34m)\u001b[0m\u001b[0;34m\u001b[0m\u001b[0;34m\u001b[0m\u001b[0m\n\u001b[1;32m     60\u001b[0m \u001b[0;34m\u001b[0m\u001b[0m\n\u001b[0;32m---> 61\u001b[0;31m     \u001b[0;32mreturn\u001b[0m \u001b[0memb_dict\u001b[0m\u001b[0;34m.\u001b[0m\u001b[0mget\u001b[0m\u001b[0;34m(\u001b[0m\u001b[0mid\u001b[0m\u001b[0;34m)\u001b[0m\u001b[0;34m\u001b[0m\u001b[0;34m\u001b[0m\u001b[0m\n\u001b[0m\u001b[1;32m     62\u001b[0m \u001b[0;34m\u001b[0m\u001b[0m\n\u001b[1;32m     63\u001b[0m \u001b[0;34m\u001b[0m\u001b[0m\n",
      "\u001b[0;31mAttributeError\u001b[0m: 'Tensor' object has no attribute 'get'"
     ]
    }
   ],
   "metadata": {}
  }
 ]
}